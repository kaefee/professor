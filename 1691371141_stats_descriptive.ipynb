{
 "cells": [
  {
   "cell_type": "code",
   "execution_count": 1,
   "metadata": {},
   "outputs": [
    {
     "data": {
      "application/vnd.jupyter.widget-view+json": {
       "model_id": "40e3127918594fd994e084b77ada9855",
       "version_major": 2,
       "version_minor": 0
      },
      "text/plain": [
       "interactive(children=(Dropdown(description='Variable:', options=('age', 'weight', 'height', 'diet', 'health_sc…"
      ]
     },
     "metadata": {},
     "output_type": "display_data"
    }
   ],
   "source": [
    "\n",
    "import pandas as pd\n",
    "import numpy as np\n",
    "import matplotlib.pyplot as plt\n",
    "from ipywidgets import interact, interactive, fixed, interact_manual\n",
    "import ipywidgets as widgets\n",
    "\n",
    "# Cargar datos\n",
    "# Tabla como diccionario\n",
    "\n",
    "health_data = {\n",
    "    \"age\": [34, 45, 23, 50, 29, 30, 27, 43, 35, 28],\n",
    "    \"weight\": [70, 85, 55, 90, 60, 80, 67, 92, 70, 64],\n",
    "    \"height\": [1.75, 1.80, 1.68, 1.70, 1.65, 1.73, 1.70, 1.76, 1.75, 1.68],\n",
    "    \"diet\": [\"modified\", \"regular\", \"modified\", \"regular\", \"modified\", \"regular\", \"modified\", \"regular\", \"modified\", \"regular\"],\n",
    "    \"health_score\": [85, 76, 88, 70, 82, 75, 90, 65, 84, 74]\n",
    "}\n",
    "\n",
    "\n",
    "data = pd.DataFrame(health_data)\n",
    "\n",
    "# Crear un widget para seleccionar una variable\n",
    "variable_dropdown = widgets.Dropdown(\n",
    "    options=data.columns,\n",
    "    description='Variable:'\n",
    ")\n",
    "\n",
    "def plot_variable(variable):\n",
    "    plt.hist(data[variable])\n",
    "    plt.title(f'Distribución de {variable}')\n",
    "    plt.xlabel(variable)\n",
    "    plt.ylabel('Frecuencia')\n",
    "    plt.show()\n",
    "\n",
    "w = interactive(plot_variable, variable=variable_dropdown)\n",
    "\n",
    "display(w)"
   ]
  },
  {
   "cell_type": "code",
   "execution_count": 2,
   "metadata": {},
   "outputs": [
    {
     "data": {
      "application/vnd.jupyter.widget-view+json": {
       "model_id": "e19dfc4548ff467d90f38550eb8e24fd",
       "version_major": 2,
       "version_minor": 0
      },
      "text/plain": [
       "IntSlider(value=7, continuous_update=False, description='Test:', max=10)"
      ]
     },
     "execution_count": 2,
     "metadata": {},
     "output_type": "execute_result"
    }
   ],
   "source": [
    "import ipywidgets as widgets\n",
    "widgets.IntSlider(\n",
    "    value=7,\n",
    "    min=0,\n",
    "    max=10,\n",
    "    step=1,\n",
    "    description='Test:',\n",
    "    disabled=False,\n",
    "    continuous_update=False,\n",
    "    orientation='horizontal',\n",
    "    readout=True,\n",
    "    readout_format='d'\n",
    ")"
   ]
  }
 ],
 "metadata": {
  "kernelspec": {
   "display_name": "uec_datascience",
   "language": "python",
   "name": "python3"
  },
  "language_info": {
   "codemirror_mode": {
    "name": "ipython",
    "version": 3
   },
   "file_extension": ".py",
   "mimetype": "text/x-python",
   "name": "python",
   "nbconvert_exporter": "python",
   "pygments_lexer": "ipython3",
   "version": "3.11.4"
  },
  "orig_nbformat": 4
 },
 "nbformat": 4,
 "nbformat_minor": 2
}
